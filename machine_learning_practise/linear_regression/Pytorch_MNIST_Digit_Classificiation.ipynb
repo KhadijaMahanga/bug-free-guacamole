{
 "cells": [
  {
   "cell_type": "code",
   "execution_count": 1,
   "metadata": {},
   "outputs": [],
   "source": [
    "#import pytorch\n",
    "import torch\n",
    "import torch.nn as nn\n",
    "import torch.optim as optim\n",
    "import torchvision\n",
    "import torchvision.transforms as transforms\n",
    "from torch.utils.data import DataLoader\n",
    "import matplotlib.pyplot as plt"
   ]
  },
  {
   "cell_type": "code",
   "execution_count": 2,
   "metadata": {},
   "outputs": [
    {
     "name": "stderr",
     "output_type": "stream",
     "text": [
      "100.0%\n",
      "100.0%\n",
      "100.0%\n",
      "100.0%\n"
     ]
    }
   ],
   "source": [
    "# Load the MNIST dataset\n",
    "transform = transforms.Compose([transforms.ToTensor(), transforms.Normalize((0.5,), (0.5,))])\n",
    "train_dataset = torchvision.datasets.MNIST(root='./data', train=True, transform=transform, download=True)\n",
    "test_dataset = torchvision.datasets.MNIST(root='./data', train=False, transform=transform, download=True)\n",
    "train_loader = DataLoader(dataset=train_dataset, batch_size=64, shuffle=True)\n",
    "test_loader = DataLoader(dataset=test_dataset, batch_size=64, shuffle=False)"
   ]
  },
  {
   "cell_type": "code",
   "execution_count": 3,
   "metadata": {},
   "outputs": [],
   "source": [
    "# Define the Feedforward Neural Network\n",
    "class FeedforwardNN(nn.Module):\n",
    "    def __init__(self, activation_function):\n",
    "        super(FeedforwardNN, self).__init__()\n",
    "        self.fc1 = nn.Linear(28*28, 128)\n",
    "        self.fc2 = nn.Linear(128, 64)\n",
    "        self.fc3 = nn.Linear(64, 10)\n",
    "        \n",
    "        if activation_function == 'relu':\n",
    "            self.activation = nn.ReLU()\n",
    "        elif activation_function == 'sigmoid':\n",
    "            self.activation = nn.Sigmoid()\n",
    "        elif activation_function == 'tanh':\n",
    "            self.activation = nn.Tanh()\n",
    "        else:\n",
    "            raise ValueError(\"Unsupported activation function\")\n",
    "        \n",
    "    def forward(self, x):\n",
    "        x = x.view(-1, 28*28)\n",
    "        x = self.activation(self.fc1(x))\n",
    "        x = self.activation(self.fc2(x))\n",
    "        x = self.fc3(x)\n",
    "        return x\n",
    "\n",
    "# Function to train the model\n",
    "def train_model(activation_function):\n",
    "    model = FeedforwardNN(activation_function)\n",
    "    criterion = nn.CrossEntropyLoss()\n",
    "    optimizer = optim.Adam(model.parameters(), lr=0.001)\n",
    "    \n",
    "    num_epochs = 5\n",
    "    for epoch in range(num_epochs):\n",
    "        for images, labels in train_loader:\n",
    "            optimizer.zero_grad()       #clear previous gradients\n",
    "            outputs = model(images)     #process image input with forwardpass\n",
    "            loss = criterion(outputs, labels)       #computes loss\n",
    "            loss.backward()  # Computes the gradients of the loss with respect to the model parameters\n",
    "            optimizer.step()  # Updates the model parameters using the computed gradients\n",
    "        print(f'Activation: {activation_function}, Epoch [{epoch+1}/{num_epochs}], Loss: {loss.item():.4f}')\n",
    "    \n",
    "    return model\n",
    "\n",
    "# Function to evaluate the model\n",
    "def evaluate_model(model):\n",
    "    correct = 0\n",
    "    total = 0\n",
    "    with torch.no_grad():\n",
    "        for images, labels in test_loader:\n",
    "            outputs = model(images)\n",
    "            _, predicted = torch.max(outputs.data, 1)\n",
    "            total += labels.size(0)\n",
    "            correct += (predicted == labels).sum().item()\n",
    "    accuracy = 100 * correct / total\n",
    "    print(f'Accuracy: {accuracy:.2f}%')\n",
    "    return accuracy"
   ]
  },
  {
   "cell_type": "code",
   "execution_count": 4,
   "metadata": {},
   "outputs": [
    {
     "name": "stdout",
     "output_type": "stream",
     "text": [
      "\n",
      "Training with relu activation\n",
      "Activation: relu, Epoch [1/5], Loss: 0.2863\n",
      "Activation: relu, Epoch [2/5], Loss: 0.1431\n",
      "Activation: relu, Epoch [3/5], Loss: 0.2693\n",
      "Activation: relu, Epoch [4/5], Loss: 0.0591\n",
      "Activation: relu, Epoch [5/5], Loss: 0.1154\n",
      "Accuracy: 96.38%\n",
      "\n",
      "Training with sigmoid activation\n",
      "Activation: sigmoid, Epoch [1/5], Loss: 0.0995\n",
      "Activation: sigmoid, Epoch [2/5], Loss: 0.1792\n",
      "Activation: sigmoid, Epoch [3/5], Loss: 0.0117\n",
      "Activation: sigmoid, Epoch [4/5], Loss: 0.1593\n",
      "Activation: sigmoid, Epoch [5/5], Loss: 0.0196\n",
      "Accuracy: 96.73%\n",
      "\n",
      "Training with tanh activation\n",
      "Activation: tanh, Epoch [1/5], Loss: 0.0594\n",
      "Activation: tanh, Epoch [2/5], Loss: 0.1278\n",
      "Activation: tanh, Epoch [3/5], Loss: 0.2595\n",
      "Activation: tanh, Epoch [4/5], Loss: 0.0673\n",
      "Activation: tanh, Epoch [5/5], Loss: 0.0512\n",
      "Accuracy: 96.10%\n"
     ]
    },
    {
     "data": {
      "image/png": "[encoded data removed]",
      "text/plain": [
       "<Figure size 640x480 with 1 Axes>"
      ]
     },
     "metadata": {},
     "output_type": "display_data"
    }
   ],
   "source": [
    "# Train and evaluate models with different activation functions\n",
    "activation_functions = ['relu', 'sigmoid', 'tanh']\n",
    "accuracies = {}\n",
    "for activation in activation_functions:\n",
    "    print(f'\\nTraining with {activation} activation')\n",
    "    model = train_model(activation)\n",
    "    accuracies[activation] = evaluate_model(model)\n",
    "\n",
    "# Plot activation function performance\n",
    "plt.bar(accuracies.keys(), accuracies.values())\n",
    "plt.xlabel('Activation Function')\n",
    "plt.ylabel('Accuracy (%)')\n",
    "plt.title('Impact of Activation Functions on Classification Performance')\n",
    "plt.show()"
   ]
  },
  {
   "cell_type": "markdown",
   "metadata": {},
   "source": [
    "All activation functions have performed equally on the classification problem"
   ]
  }
 ],
 "metadata": {
  "kernelspec": {
   "display_name": ".venv",
   "language": "python",
   "name": "python3"
  },
  "language_info": {
   "codemirror_mode": {
    "name": "ipython",
    "version": 3
   },
   "file_extension": ".py",
   "mimetype": "text/x-python",
   "name": "python",
   "nbconvert_exporter": "python",
   "pygments_lexer": "ipython3",
   "version": "3.10.8"
  }
 },
 "nbformat": 4,
 "nbformat_minor": 2
}
